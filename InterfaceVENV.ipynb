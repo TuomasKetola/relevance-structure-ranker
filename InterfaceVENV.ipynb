{
 "cells": [
  {
   "cell_type": "code",
   "execution_count": 1,
   "id": "805bcff6",
   "metadata": {},
   "outputs": [],
   "source": [
    "# try:\n",
    "#     import piplite\n",
    "#     await piplite.install(['ipywidgets'])\n",
    "# except ImportError:\n",
    "#     pass"
   ]
  },
  {
   "cell_type": "code",
   "execution_count": 2,
   "id": "08a93f67",
   "metadata": {},
   "outputs": [],
   "source": [
    "%matplotlib inline"
   ]
  },
  {
   "cell_type": "code",
   "execution_count": 3,
   "id": "6f297af0",
   "metadata": {},
   "outputs": [],
   "source": [
    "# import sys\n",
    "# !{sys.executable} -m pip install elasticsearch plotly jupyter-dash ipywidgets\n",
    "# import sys\n",
    "# !{sys.executable} -m pip install ipywidgets elasticsearch numpy matplotlib pandas nltk scikit-learn\n",
    "# !{sys.executable} -m pip install ipywidgets\n",
    "\n",
    "# !{sys.executable} -m jupyter nbextension enable --py widgetsnbextension\n",
    "# import sys\n",
    "# !{sys.executable} -m jupyter nbextension enable --py --sys-prefix widgetsnbextension\n",
    "# # ! pip install ipywidgets\n",
    "# # ! jupyter nbextension enable --py --sys-prefix widgetsnbextension\n",
    "# ! pip install scikit-learn\n",
    "# ! pip install matplotlib\n",
    "# ! pip install jupyter-dash\n",
    "# ! pip install pandas\n",
    "# ! pip install elasticsearch"
   ]
  },
  {
   "cell_type": "code",
   "execution_count": 4,
   "id": "cf4c4b30",
   "metadata": {},
   "outputs": [],
   "source": [
    "import retrieve\n",
    "import pandas as pd\n",
    "from elasticsearch import Elasticsearch\n",
    "import numpy as np\n",
    "import matplotlib.pyplot as plt\n",
    "import ipywidgets as widgets\n",
    "import json\n",
    "\n",
    "from collections import defaultdict\n",
    "\n",
    "# import warnings filter\n",
    "from warnings import simplefilter\n",
    "# ignore all future warnings\n",
    "simplefilter(action='ignore', category=FutureWarning)\n",
    "# simplefilter(action='ignore', category=SecurityWarning)\n",
    "\n",
    "from sklearn.manifold import TSNE\n",
    "from sklearn.cluster import KMeans\n",
    "from sklearn.metrics import silhouette_score\n",
    "\n",
    "from similarity import cosineSim, absoluteSim, manhattanSim, chi2Sim"
   ]
  },
  {
   "cell_type": "code",
   "execution_count": 5,
   "id": "0894e20c",
   "metadata": {},
   "outputs": [],
   "source": [
    "def import_json(path):\n",
    "    with open(path, 'r') as in_:\n",
    "   \t\tdataSetInfo = json.load(in_)\n",
    "    return dataSetInfo"
   ]
  },
  {
   "cell_type": "code",
   "execution_count": 6,
   "id": "d33efdb7",
   "metadata": {},
   "outputs": [],
   "source": [
    "def connectES(password, host):\n",
    "    es = Elasticsearch(\n",
    "    host,\n",
    "    ca_certs=\"/Users/tuomasketola/Dropbox/phd_files/searchEngineApp/relevance-structure-ranker/certs/http_ca.crt\",\n",
    "#     verify_certs=False,\n",
    "    basic_auth=(\"elastic\", password)\n",
    "        )\n",
    "    return es"
   ]
  },
  {
   "cell_type": "code",
   "execution_count": 7,
   "id": "717cc318",
   "metadata": {},
   "outputs": [],
   "source": [
    "def fetch_ranking_topk(query, index_name, model_name, k=100):\n",
    "    ranking, weights = retrieve.retrieve(query, index_name, model_name)\n",
    "#     print('retrieved {} documents form {}'.format(len(ranking), index_name))\n",
    "    return ranking[:k], weights[:k]"
   ]
  },
  {
   "cell_type": "code",
   "execution_count": 8,
   "id": "e310e3ff",
   "metadata": {},
   "outputs": [],
   "source": [
    "def display_field_weights(weights):\n",
    "    \n",
    "    X_embedded = TSNE(n_components=2,  init='random', perplexity=3).fit_transform(weights)\n",
    "\n",
    "    X_embedded_lst = X_embedded.tolist()\n",
    "    xs = [x[0] for x in X_embedded_lst]\n",
    "    ys = [x[1] for x in X_embedded_lst]\n",
    "\n",
    "    return plt.scatter(xs, ys), xs, ys"
   ]
  },
  {
   "cell_type": "code",
   "execution_count": 9,
   "id": "27f3522a",
   "metadata": {},
   "outputs": [],
   "source": [
    "def show_results(ranking, weights):\n",
    "    to_display = []\n",
    "    for document, doc_weights in zip(ranking, weights.tolist()):\n",
    "        document_source = es.get(index=index_name, id=document[0])\n",
    "        score = document[1]\n",
    "        to_show = document_source['_source'][field_to_show]\n",
    "        to_display.append((to_show, ': ',score, doc_weights, document[0]))\n",
    "#         print(to_show, ': ',score, doc_weights)\n",
    "    return to_display"
   ]
  },
  {
   "cell_type": "code",
   "execution_count": 10,
   "id": "48468546",
   "metadata": {},
   "outputs": [],
   "source": [
    "ES_PASSWORD = '8kDCKZ2ZwFhRAQmFy6JP'\n",
    "es = connectES(ES_PASSWORD, \"https://localhost:9200\")\n",
    "if es.ping():\n",
    "#     print('ES instance running succesfully')\n",
    "    pass\n",
    "else:\n",
    "    print('ping did not work')"
   ]
  },
  {
   "cell_type": "code",
   "execution_count": 11,
   "id": "519ec098",
   "metadata": {},
   "outputs": [],
   "source": [
    "query = 'eurovision abba sweden'"
   ]
  },
  {
   "cell_type": "code",
   "execution_count": 12,
   "id": "d2022426",
   "metadata": {},
   "outputs": [],
   "source": [
    "index_name = 'imdb'"
   ]
  },
  {
   "cell_type": "code",
   "execution_count": 13,
   "id": "3b9e57c3",
   "metadata": {},
   "outputs": [],
   "source": [
    "model_name = 'icfwG'"
   ]
  },
  {
   "cell_type": "code",
   "execution_count": 14,
   "id": "0e88e1bf",
   "metadata": {},
   "outputs": [],
   "source": [
    "# field_to_show = 'title'\n",
    "field_to_show = 'movie_name'"
   ]
  },
  {
   "cell_type": "code",
   "execution_count": 15,
   "id": "a7dfe71b",
   "metadata": {},
   "outputs": [],
   "source": [
    "dataSetInfo = import_json('datasetInfo.json')[index_name]\n",
    "fields = dataSetInfo['fields']"
   ]
  },
  {
   "cell_type": "code",
   "execution_count": 16,
   "id": "7e2ac050",
   "metadata": {},
   "outputs": [],
   "source": [
    "test =False\n",
    "if test:\n",
    "    ranking, weights = fetch_ranking_topk(query, index_name, model_name, k=20)\n",
    "    weights = np.round(weights,2)\n",
    "    to_display = show_results(ranking, weights)\n",
    "    scatters, xs_scatter, ys_scatter = display_field_weights(weights)"
   ]
  },
  {
   "cell_type": "code",
   "execution_count": null,
   "id": "18be6efb",
   "metadata": {},
   "outputs": [],
   "source": []
  },
  {
   "cell_type": "code",
   "execution_count": 17,
   "id": "28f6f7f9",
   "metadata": {},
   "outputs": [],
   "source": [
    "from ipywidgets import IntSlider, HTML, Button, Layout, ButtonStyle,GridBox, Box, GridspecLayout, HBox, Text, Checkbox, VBox, Output\n",
    "from IPython.display import display, clear_output"
   ]
  },
  {
   "cell_type": "code",
   "execution_count": 18,
   "id": "c68c32e6",
   "metadata": {},
   "outputs": [],
   "source": [
    "# potential_entities = ['lordi', 'Riva', 'carola', 'loreen', 'Lena']"
   ]
  },
  {
   "cell_type": "code",
   "execution_count": null,
   "id": "b191685e",
   "metadata": {},
   "outputs": [],
   "source": []
  },
  {
   "cell_type": "code",
   "execution_count": 19,
   "id": "73cbe500",
   "metadata": {},
   "outputs": [],
   "source": [
    "header = HTML(\n",
    "    value = \"<b><font color='black'>{}</b>\".format(\"Dubious Entity Search\")\n",
    ")\n",
    "\n",
    "box = HBox([header], layout=Layout(height='auto', width='auto'))\n",
    "# box.add_class(\"box_style\")"
   ]
  },
  {
   "cell_type": "code",
   "execution_count": 20,
   "id": "2c725077",
   "metadata": {},
   "outputs": [],
   "source": [
    "search_bar = Text(\n",
    "    value='wizard magic spells Daniel Radcliffe',\n",
    "    placeholder='Type something',\n",
    "    description='Query:',\n",
    "    disabled=False\n",
    ")"
   ]
  },
  {
   "cell_type": "code",
   "execution_count": 21,
   "id": "1b25bb4f",
   "metadata": {},
   "outputs": [],
   "source": [
    "seed_entity_input = Text(\n",
    "    value='Daniel Radcliffe',\n",
    "    placeholder='Type something',\n",
    "    description='Seed Entity:',\n",
    "    disabled=False\n",
    ")"
   ]
  },
  {
   "cell_type": "code",
   "execution_count": 22,
   "id": "264a3c3a",
   "metadata": {},
   "outputs": [],
   "source": [
    "dubious_entities_input = Text(\n",
    "    value='Emma Watson,Robin Williams,Rupert Grint,Martin Freeman,Harry Potter,Hermione,Alladin,The boxer,Kelvin Moore,Bobbys Father,Gene ChardAllison Adams,Laura San Giacomo,Christophe Bon,Hackjin Mun',\n",
    "    placeholder='Type something',\n",
    "    description='Potential Dubious Entities',\n",
    "    disabled=False\n",
    ")"
   ]
  },
  {
   "cell_type": "code",
   "execution_count": 23,
   "id": "f627e883",
   "metadata": {},
   "outputs": [],
   "source": [
    "search_button = Button(\n",
    "    description='Search',\n",
    "    disabled=False,\n",
    "    button_style='', \n",
    "    tooltip=''\n",
    ")"
   ]
  },
  {
   "cell_type": "code",
   "execution_count": 24,
   "id": "70824b9e",
   "metadata": {},
   "outputs": [],
   "source": [
    "more_info_button = Button(\n",
    "    description='More Info',\n",
    "    disabled=False,\n",
    "    button_style='', \n",
    "    tooltip=''\n",
    ")"
   ]
  },
  {
   "cell_type": "code",
   "execution_count": 25,
   "id": "b3b5998d",
   "metadata": {},
   "outputs": [],
   "source": [
    "rank_button = Button(\n",
    "    description='Rank Enties',\n",
    "    disabled=False,\n",
    "    button_style='', \n",
    "    tooltip=''\n",
    ")"
   ]
  },
  {
   "cell_type": "code",
   "execution_count": 26,
   "id": "5f2034bc",
   "metadata": {},
   "outputs": [],
   "source": [
    "aggregator_model_dropdown =widgets.Dropdown(\n",
    "    options=['icfwG', 'icfwLA','linear'],\n",
    "    value='icfwG',\n",
    "    description='',\n",
    "    disabled=False,\n",
    ")"
   ]
  },
  {
   "cell_type": "code",
   "execution_count": 27,
   "id": "28fffc97",
   "metadata": {},
   "outputs": [],
   "source": [
    "similarity_model_dropdown =widgets.Dropdown(\n",
    "    options=['cosineSim', 'absoluteSim','manhattanSim','chi2Sim'],\n",
    "    value='cosineSim',\n",
    "    description='',\n",
    "    disabled=False,\n",
    ")"
   ]
  },
  {
   "cell_type": "code",
   "execution_count": 28,
   "id": "dc6f9637",
   "metadata": {},
   "outputs": [],
   "source": [
    "def findClusterLabels(xs, ys):\n",
    "    clusterData = np.array(list(zip(xs,ys)))\n",
    "    silScores = []\n",
    "    for i in range(2,8):\n",
    "        kmeans = KMeans(n_clusters=i, random_state=0).fit(clusterData)\n",
    "\n",
    "        labels = kmeans.labels_\n",
    "\n",
    "        silScore = silhouette_score(clusterData,labels)\n",
    "        silScores.append((i, silScore, labels))\n",
    "    silScoresSorted = sorted(silScores,key = lambda tup:tup[1], reverse=True)\n",
    "    return silScoresSorted[0][2]"
   ]
  },
  {
   "cell_type": "code",
   "execution_count": 29,
   "id": "a13e3689",
   "metadata": {},
   "outputs": [],
   "source": [
    "def bar_graph(b):\n",
    "#     search_bar.value = 'ha'\n",
    "    tooltip = b.tooltip\n",
    "    global barOut\n",
    "    with barOut:\n",
    "        clear_output()\n",
    "        document_id, weightsStr = tooltip.split('SPLIT')\n",
    "        weights = [float(x) for x in weightsStr[1:-1].split(',')]\n",
    "        fig, ax = plt.subplots(constrained_layout=True, figsize=(6, 4))\n",
    "        bar = ax.bar(range(len(weights)),weights)\n",
    "        if index_name == 'dbpedia':\n",
    "            ax.set_xticks(range(0,5), [x.replace('_entities','') for x in fields])\n",
    "        elif index_name == 'imdb':\n",
    "            ax.set_xticks(range(0,len(fields)), [x.replace('movie_','') for x in fields])\n",
    "        plt.show(fig)"
   ]
  },
  {
   "cell_type": "code",
   "execution_count": 35,
   "id": "860236e7",
   "metadata": {},
   "outputs": [],
   "source": [
    "def give_info(b):\n",
    "    pass\n",
    "    "
   ]
  },
  {
   "cell_type": "code",
   "execution_count": 30,
   "id": "8885ecf0",
   "metadata": {},
   "outputs": [],
   "source": [
    "def run_search(b):\n",
    "    global seed_weights\n",
    "    grid[18:28, 0:3].children = []\n",
    "    query = search_bar.value\n",
    "    seed_entity_ = seed_entity_input.value\n",
    "    if seed_entity_ not in query:\n",
    "        print('not ok')\n",
    "        return False\n",
    "    ranking, weights = fetch_ranking_topk(query, index_name, aggregator_model_dropdown.value, k=20)\n",
    "    seed_weights = weights\n",
    "    weights = np.round(weights,2)\n",
    "    to_display = show_results(ranking, weights)\n",
    "    result_titles = []\n",
    "    result_checkboxes = []\n",
    "    result_info_buttons = []\n",
    "    \n",
    "    \n",
    "    # make scatter plot\n",
    "    X_embedded = TSNE(n_components=2,  init='random', perplexity=3).fit_transform(weights)\n",
    "    \n",
    "    X_embedded_lst = X_embedded.tolist()\n",
    "    xs = [x[0] for x in X_embedded_lst]\n",
    "    ys = [x[1] for x in X_embedded_lst]\n",
    "    \n",
    "    labels = findClusterLabels(xs,ys)\n",
    "    colors = ['b','g','r','c','m','y','k']\n",
    "    color_dict = dict(zip(range(2,9),colors))\n",
    "    colors = [color_dict[x+2] for x in labels.tolist()]   \n",
    "    color_dict = {'b': 'blue', 'g': 'green', 'r': 'red', 'c': 'aquamarine', 'm': 'magenta', 'y': 'yellow', 'k': 'black'}\n",
    "    \n",
    "    global scatterOut\n",
    "    with scatterOut:\n",
    "        clear_output()\n",
    "        fig, ax = plt.subplots(constrained_layout=True, figsize=(6, 4))\n",
    "        for x,y,c in zip(xs,ys,colors):\n",
    "            ax.scatter(x, y,color=c)\n",
    "        plt.show(fig)\n",
    "    result_count = 0\n",
    "    for result in to_display:\n",
    "        result_checkbox = Checkbox(\n",
    "                    value=False,\n",
    "                    description='Interesting',\n",
    "                    disabled=False,\n",
    "                    indent=False,\n",
    "                    name=result[-1],\n",
    "                    tooltip=result[-1] + 'SPLIT'+ str(result[-2]),\n",
    "                    layout = widgets.Layout(width='80px')\n",
    "                )\n",
    "        result_title = HTML(\n",
    "            value = result[0] if len(result[0]) < 30 else result[0][:30] + '...',\n",
    "            )\n",
    "\n",
    "        result_id = HTML(\n",
    "            value = result[-1]\n",
    "            )\n",
    "        result_info_button = Button(\n",
    "                description='More Info',\n",
    "                disabled=False,\n",
    "                button_style='', \n",
    "                tooltip=result[-1] + 'SPLIT'+ str(result[-2]),\n",
    "                layout = widgets.Layout(width='80px')\n",
    "            )\n",
    "        result_info_button.style.button_color = color_dict[colors[result_count]]\n",
    "        result_count += 1\n",
    "        result_titles.append(VBox([result_title]))\n",
    "        result_checkboxes.append(result_checkbox)\n",
    "        result_info_buttons.append(result_info_button)\n",
    "    grid[3:18, 0:3].children = result_titles\n",
    "    grid[3:18, 3:4].children = result_checkboxes\n",
    "    grid[3:18, 4:5].children = result_info_buttons\n",
    "    \n",
    "\n",
    "    _ = [result_info_button.on_click(bar_graph) for result_info_button in result_info_buttons]\n",
    "    _ = [more_info_button.on_click(give_info) for result_info_button in result_info_buttons]\n",
    "    _ = [result_checkbox.observe(checked) for result_checkbox in result_checkboxes]\n",
    "    "
   ]
  },
  {
   "cell_type": "code",
   "execution_count": null,
   "id": "13a99ac6",
   "metadata": {},
   "outputs": [],
   "source": []
  },
  {
   "cell_type": "code",
   "execution_count": 31,
   "id": "6c02530e",
   "metadata": {},
   "outputs": [],
   "source": [
    "def checked(b):\n",
    "    if b['name'] == 'value' and b['new']:\n",
    "        \n",
    "        tooltip = b.owner.tooltip\n",
    "        document_id, weightsStr = tooltip.split('SPLIT')\n",
    "        query = search_bar.value\n",
    "        to_show = '{query} - {id_} - {weights}'.format(id_=document_id, query=query, weights=weightsStr)\n",
    "        grid[18:28, 0:3].children=tuple(list(grid[18:28, 0:3].children) + [HTML(value=to_show)])\n",
    "        \n",
    "    elif b['name'] == 'value' and not b['new']:\n",
    "        tooltip = b.owner.tooltip\n",
    "        document_id, weightsStr = tooltip.split('SPLIT')\n",
    "        new_children = [x for x in list(grid[18:28, 0:3].children) if x.value.split(' - ')[1] != document_id]\n",
    "        grid[18:28, 0:3].children = new_children"
   ]
  },
  {
   "cell_type": "code",
   "execution_count": 32,
   "id": "167e8f83",
   "metadata": {},
   "outputs": [],
   "source": [
    "def rank_entities(b):\n",
    "#     global potential_entities\n",
    "    simModelDict = {\n",
    "        \"cosineSim\": cosineSim,\n",
    "        \"absoluteSim\" : absoluteSim,\n",
    "        \"manhattanSim\" : manhattanSim,\n",
    "        \"chi2Sim\" : chi2Sim\n",
    "    }\n",
    "    simModelName = 'absoluteSim'\n",
    "    global entity_rel\n",
    "    query = search_bar.value\n",
    "    seed_entity = seed_entity_input.value\n",
    "    potential_entities = dubious_entities_input.value.split(',')\n",
    "    interesting_weights = [x.value.split(' - ')[2] for x in grid[18:28, 0:3].children]\n",
    "    interesting_weights = [[float(x[1:-1]) for x in interesting_weight_str.split(',')] for interesting_weight_str in interesting_weights]\n",
    "    interesting_weights = np.array(interesting_weights)\n",
    "    rank_scores, entity_rel = simModelDict[similarity_model_dropdown.value].calc_similarity(fetch_ranking_topk, query, seed_entity, potential_entities, interesting_weights, index_name, model_name,es)\n",
    "    rank_scores = sorted(rank_scores, key= lambda tup:tup[1], reverse=True)\n",
    "    rank_scores_output = [HBox([HTML(value='{} - {}'.format(x[0], round(x[1],3))), more_info_button]) for x in rank_scores]\n",
    "    grid[18:28, 5:10].children = rank_scores_output\n",
    "    "
   ]
  },
  {
   "cell_type": "code",
   "execution_count": 33,
   "id": "285ed8e8",
   "metadata": {},
   "outputs": [
    {
     "data": {
      "application/vnd.jupyter.widget-view+json": {
       "model_id": "d8c9251dbafc4beb9cf9c3860f1c9dcf",
       "version_major": 2,
       "version_minor": 0
      },
      "text/plain": [
       "GridspecLayout(children=(HBox(children=(HTML(value=\"<b><font color='black'>Dubious Entity Search</b>\"),), layo…"
      ]
     },
     "metadata": {},
     "output_type": "display_data"
    }
   ],
   "source": [
    "result_titles = []\n",
    "result_checkboxes = []\n",
    "result_info_buttons = []\n",
    "interesting_docs = []\n",
    "    \n",
    "scatterOut = Output()    \n",
    "barOut = Output()\n",
    "\n",
    "\n",
    "grid = GridspecLayout(35, 11, height='1500px', width='1000px')\n",
    "grid[0:1,:] = box\n",
    "grid[1:2,0:3] = seed_entity_input\n",
    "grid[1:2,4:7] = search_bar\n",
    "grid[1:2,8:10] = search_button\n",
    "grid[2:3, 0:2] = dubious_entities_input\n",
    "grid[2:3, 4:7] = aggregator_model_dropdown\n",
    "grid[2:3, 8:10] = similarity_model_dropdown\n",
    "grid[3:18, 0:3] = VBox(\n",
    "    result_titles,\n",
    "    layout=Layout(border='solid 1px black')\n",
    "    )\n",
    "grid[3:18, 3:4] = VBox(\n",
    "    result_checkboxes,\n",
    "    layout=Layout(border='solid 1px black')\n",
    "    )\n",
    "grid[3:18, 4:5] = VBox(\n",
    "    result_info_buttons,\n",
    "    layout=Layout(border='solid 1px black')\n",
    "    )\n",
    "                                   \n",
    "grid[3:18,5:10] = VBox(\n",
    "    [scatterOut, barOut],\n",
    "    layout=Layout(border='solid 1px black')\n",
    ")\n",
    "grid[18:28, 0:3] = VBox(\n",
    "    interesting_docs,\n",
    "    layout=Layout(border='solid 1px black')\n",
    "    )\n",
    "grid[18:28, 5:10] = VBox(\n",
    "    [],\n",
    "    layout=Layout(border='solid 1px black')\n",
    ")\n",
    "grid[18:19, 3:4] = rank_button\n",
    "\n",
    "\n",
    "query = search_bar.value\n",
    "display(grid)\n",
    "search_button.on_click(run_search)\n",
    "rank_button.on_click(rank_entities)\n",
    "# _ = [result_info_button.on_click(bar_graph) for result_info_button in grid[2:17, 4:5].children]\n",
    "\n"
   ]
  },
  {
   "cell_type": "code",
   "execution_count": 127,
   "id": "cdf361b9",
   "metadata": {},
   "outputs": [],
   "source": [
    "query_body = {\n",
    "                'query': {\n",
    "                      'multi_match':{\n",
    "                        'query': \"John AND McClane\",\n",
    "                        'fields': ['plot']}\n",
    "                    }\n",
    "                }"
   ]
  },
  {
   "cell_type": "code",
   "execution_count": 128,
   "id": "72bc3572",
   "metadata": {},
   "outputs": [
    {
     "name": "stderr",
     "output_type": "stream",
     "text": [
      "/var/folders/x5/wsnvl0vs5010p1lwp_8s1g1w0000gn/T/ipykernel_10839/2391497563.py:1: DeprecationWarning: The 'body' parameter is deprecated and will be removed in a future version. Instead use individual parameters.\n",
      "  resp  = es.search(index='imdb', body = query_body, explain=True,size=10)\n"
     ]
    }
   ],
   "source": [
    "resp  = es.search(index='imdb', body = query_body, explain=True,size=10)"
   ]
  },
  {
   "cell_type": "code",
   "execution_count": 129,
   "id": "f1c4f525",
   "metadata": {},
   "outputs": [
    {
     "data": {
      "text/plain": [
       "[19.605705,\n",
       " 19.139019,\n",
       " 19.023918,\n",
       " 18.587767,\n",
       " 10.748904,\n",
       " 9.012202,\n",
       " 6.366661,\n",
       " 6.324498,\n",
       " 6.304593,\n",
       " 6.2754908]"
      ]
     },
     "execution_count": 129,
     "metadata": {},
     "output_type": "execute_result"
    }
   ],
   "source": [
    "[x['_score'] for x in resp['hits']['hits']]"
   ]
  },
  {
   "cell_type": "code",
   "execution_count": 130,
   "id": "e063b2ea",
   "metadata": {},
   "outputs": [],
   "source": [
    "query_body = {\n",
    "    'query': {\n",
    "          'query_string':{\n",
    "            'query': 'John AND McClane',\n",
    "            'fields': ['plot']}\n",
    "        }\n",
    "    }"
   ]
  },
  {
   "cell_type": "code",
   "execution_count": 131,
   "id": "d95d2e6b",
   "metadata": {},
   "outputs": [
    {
     "name": "stderr",
     "output_type": "stream",
     "text": [
      "/var/folders/x5/wsnvl0vs5010p1lwp_8s1g1w0000gn/T/ipykernel_10839/2391497563.py:1: DeprecationWarning: The 'body' parameter is deprecated and will be removed in a future version. Instead use individual parameters.\n",
      "  resp  = es.search(index='imdb', body = query_body, explain=True,size=10)\n"
     ]
    }
   ],
   "source": [
    "resp  = es.search(index='imdb', body = query_body, explain=True,size=10)"
   ]
  },
  {
   "cell_type": "code",
   "execution_count": 132,
   "id": "e9e841d3",
   "metadata": {},
   "outputs": [
    {
     "data": {
      "text/plain": [
       "[19.482428, 19.019955, 18.907429, 18.466743]"
      ]
     },
     "execution_count": 132,
     "metadata": {},
     "output_type": "execute_result"
    }
   ],
   "source": [
    "[x['_score'] for x in resp['hits']['hits']]"
   ]
  },
  {
   "cell_type": "code",
   "execution_count": 120,
   "id": "891f72b9",
   "metadata": {},
   "outputs": [],
   "source": [
    "def make_full_query(q, ent):\n",
    "    q_split = q.strip().split(' ')\n",
    "    q = q.strip()\n",
    "    if len(q_split) == 1:\n",
    "        return q[0] + ' OR '+ ent\n",
    "    else:\n",
    "        return q.replace(' ',' OR ') + ' OR ' + '({})'.format(ent1.replace(' ', ' AND '))"
   ]
  },
  {
   "cell_type": "code",
   "execution_count": 121,
   "id": "6b498ddf",
   "metadata": {},
   "outputs": [],
   "source": [
    "query = 'magic wizard'\n",
    "ent1 = 'Emma Watson'\n",
    "ent2 = 'Hermione'"
   ]
  },
  {
   "cell_type": "code",
   "execution_count": 122,
   "id": "c6a38c54",
   "metadata": {},
   "outputs": [
    {
     "data": {
      "text/plain": [
       "'magic OR wizard OR (Emma AND Watson)'"
      ]
     },
     "execution_count": 122,
     "metadata": {},
     "output_type": "execute_result"
    }
   ],
   "source": [
    "make_full_query(query, ent1)"
   ]
  },
  {
   "cell_type": "code",
   "execution_count": 123,
   "id": "2215988f",
   "metadata": {},
   "outputs": [
    {
     "data": {
      "text/plain": [
       "'magic OR wizard OR (Emma AND Watson)'"
      ]
     },
     "execution_count": 123,
     "metadata": {},
     "output_type": "execute_result"
    }
   ],
   "source": [
    "make_full_query('magic wizard ', ent2)"
   ]
  },
  {
   "cell_type": "code",
   "execution_count": null,
   "id": "5e767e19",
   "metadata": {},
   "outputs": [],
   "source": []
  }
 ],
 "metadata": {
  "kernelspec": {
   "display_name": "relevance-structure-ranker",
   "language": "python",
   "name": "relevance-structure-ranker"
  },
  "language_info": {
   "codemirror_mode": {
    "name": "ipython",
    "version": 3
   },
   "file_extension": ".py",
   "mimetype": "text/x-python",
   "name": "python",
   "nbconvert_exporter": "python",
   "pygments_lexer": "ipython3",
   "version": "3.10.8"
  }
 },
 "nbformat": 4,
 "nbformat_minor": 5
}
