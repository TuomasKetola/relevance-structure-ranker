{
 "cells": [
  {
   "cell_type": "code",
   "execution_count": 1,
   "id": "805bcff6",
   "metadata": {},
   "outputs": [],
   "source": [
    "# try:\n",
    "#     import piplite\n",
    "#     await piplite.install(['ipywidgets'])\n",
    "# except ImportError:\n",
    "#     pass"
   ]
  },
  {
   "cell_type": "code",
   "execution_count": null,
   "id": "08a93f67",
   "metadata": {},
   "outputs": [],
   "source": []
  },
  {
   "cell_type": "code",
   "execution_count": 1,
   "id": "6f297af0",
   "metadata": {},
   "outputs": [],
   "source": [
    "# import sys\n",
    "# !{sys.executable} -m pip install elasticsearch plotly jupyter-dash ipywidgets\n",
    "# import sys\n",
    "# !{sys.executable} -m pip install ipywidgets\n",
    "# !{sys.executable} -m jupyter nbextension enable --py widgetsnbextension\n",
    "# import sys\n",
    "# !{sys.executable} -m jupyter nbextension enable --py --sys-prefix widgetsnbextension\n",
    "# # ! pip install ipywidgets\n",
    "# # ! jupyter nbextension enable --py --sys-prefix widgetsnbextension\n",
    "# ! pip install scikit-learn\n",
    "# ! pip install matplotlib\n",
    "# ! pip install jupyter-dash\n",
    "# ! pip install pandas\n",
    "# ! pip install elasticsearch"
   ]
  },
  {
   "cell_type": "code",
   "execution_count": 2,
   "id": "cf4c4b30",
   "metadata": {},
   "outputs": [],
   "source": [
    "import retrieve\n",
    "import pandas as pd\n",
    "from elasticsearch import Elasticsearch\n",
    "import numpy as np\n",
    "import matplotlib.pyplot as plt\n",
    "import ipywidgets as widgets\n",
    "\n",
    "\n",
    "\n",
    "from sklearn.manifold import TSNE"
   ]
  },
  {
   "cell_type": "code",
   "execution_count": 3,
   "id": "d33efdb7",
   "metadata": {},
   "outputs": [],
   "source": [
    "def connectES(password, host):\n",
    "    es = Elasticsearch(\n",
    "    host,\n",
    "    # ca_certs=\"/homes/tjhk3/eecs-ir/ecir23-elastic/elasticsearch-8.3.2/config/certs/http_ca.crt\",\n",
    "    verify_certs=False,\n",
    "    basic_auth=(\"elastic\", password)\n",
    "        )\n",
    "    return es"
   ]
  },
  {
   "cell_type": "code",
   "execution_count": 4,
   "id": "717cc318",
   "metadata": {},
   "outputs": [],
   "source": [
    "def fetch_ranking_topk(query, index_name, model_name, k=100):\n",
    "    ranking, weights = retrieve.retrieve(query, index_name, model_name)\n",
    "    print('retrieved {} documents form {}'.format(len(ranking), index_name))\n",
    "    return ranking[:k], weights[:k]"
   ]
  },
  {
   "cell_type": "code",
   "execution_count": 5,
   "id": "e310e3ff",
   "metadata": {},
   "outputs": [],
   "source": [
    "def display_field_weights(weights):\n",
    "    \n",
    "    X_embedded = TSNE(n_components=2,  init='random', perplexity=3).fit_transform(weights)\n",
    "\n",
    "    X_embedded_lst = X_embedded.tolist()\n",
    "    xs = [x[0] for x in X_embedded_lst]\n",
    "    ys = [x[1] for x in X_embedded_lst]\n",
    "\n",
    "    plt.scatter(xs, ys)"
   ]
  },
  {
   "cell_type": "code",
   "execution_count": 6,
   "id": "27f3522a",
   "metadata": {},
   "outputs": [],
   "source": [
    "def show_results(ranking, weights):\n",
    "    to_display = []\n",
    "    for document, doc_weights in zip(ranking, weights.tolist()):\n",
    "        document_source = es.get(index=index_name, id=document[0])\n",
    "        score = document[1]\n",
    "        to_show = document_source['_source'][field_to_show]\n",
    "        to_display.append((to_show, ': ',score, doc_weights))\n",
    "        print(to_show, ': ',score, doc_weights)\n",
    "    return to_display"
   ]
  },
  {
   "cell_type": "code",
   "execution_count": 7,
   "id": "48468546",
   "metadata": {},
   "outputs": [
    {
     "name": "stdout",
     "output_type": "stream",
     "text": [
      "ES instance running succesfully\n"
     ]
    },
    {
     "name": "stderr",
     "output_type": "stream",
     "text": [
      "/Library/Frameworks/Python.framework/Versions/3.9/lib/python3.9/site-packages/elasticsearch/_sync/client/__init__.py:395: SecurityWarning: Connecting to 'https://localhost:9200' using TLS with verify_certs=False is insecure\n",
      "  _transport = transport_class(\n"
     ]
    }
   ],
   "source": [
    "ES_PASSWORD = '8kDCKZ2ZwFhRAQmFy6JP'\n",
    "es = connectES(ES_PASSWORD, \"https://localhost:9200\")\n",
    "if es.ping():\n",
    "    print('ES instance running succesfully')\n",
    "else:\n",
    "    print('ping did not work')"
   ]
  },
  {
   "cell_type": "code",
   "execution_count": 8,
   "id": "519ec098",
   "metadata": {},
   "outputs": [],
   "source": [
    "query = 'eurovision abba sweden'"
   ]
  },
  {
   "cell_type": "code",
   "execution_count": 9,
   "id": "d2022426",
   "metadata": {},
   "outputs": [],
   "source": [
    "index_name = 'dbpedia'"
   ]
  },
  {
   "cell_type": "code",
   "execution_count": 10,
   "id": "3b9e57c3",
   "metadata": {},
   "outputs": [],
   "source": [
    "model_name = 'icfwLA'"
   ]
  },
  {
   "cell_type": "code",
   "execution_count": 11,
   "id": "0e88e1bf",
   "metadata": {},
   "outputs": [],
   "source": [
    "# field_to_show = 'title'\n",
    "field_to_show = 'label'"
   ]
  },
  {
   "cell_type": "code",
   "execution_count": null,
   "id": "a7dfe71b",
   "metadata": {},
   "outputs": [],
   "source": []
  },
  {
   "cell_type": "code",
   "execution_count": 12,
   "id": "5578a3f0",
   "metadata": {},
   "outputs": [
    {
     "name": "stderr",
     "output_type": "stream",
     "text": [
      "/Library/Frameworks/Python.framework/Versions/3.9/lib/python3.9/site-packages/elasticsearch/_sync/client/__init__.py:395: SecurityWarning: Connecting to 'https://localhost:9200' using TLS with verify_certs=False is insecure\n",
      "  _transport = transport_class(\n"
     ]
    },
    {
     "name": "stdout",
     "output_type": "stream",
     "text": [
      "ES instance running succesfully\n",
      "retrieved 4264 documents form dbpedia\n",
      "sweden in the eurovis song contest 1975 :  1068.2371418590471 [10.68, 9.02, 1.24, 1.2, 1.2]\n",
      "melodifestivalen 1974 :  1020.015967109784 [10.65, 2.18, 2.18, 2.1, 2.1]\n",
      "waterloo ( abba song ) :  975.2087147866165 [19.03, 14.79, 9.46, 1.87, 1.86]\n",
      "abba award and nomin :  963.8888941880858 [10.68, 9.02, 1.24, 1.2, 1.2]\n",
      "congratul : 50 year of the eurovis song contest :  940.9789352078928 [10.13, 8.47, 0.69, 0.67, 8.05]\n",
      "eurovis song contest 1975 :  907.5313130216739 [10.68, 9.02, 1.24, 1.2, 1.2]\n",
      "gold : greatest hit ( abba album ) :  833.0515549443882 [10.13, 8.47, 0.69, 0.67, 8.05]\n",
      "waterloo ( album ) :  819.9966550241106 [10.68, 1.24, 1.24, 1.2, 8.58]\n",
      "ola brunkert :  805.6212820036917 [10.13, 8.47, 0.69, 0.67, 8.05]\n",
      "abba discographi :  769.0329271153784 [11.62, 2.18, 2.18, 2.1, 2.1]\n",
      "nygamm val :  738.8671070280097 [11.62, 2.18, 2.18, 2.1, 2.1]\n",
      "honey , honey :  734.6597931355298 [11.62, 2.18, 2.18, 2.1, 2.1]\n",
      "sweden in the eurovis song contest 1962 :  710.4147203573855 [11.62, 2.18, 2.18, 2.1, 2.1]\n",
      "sweden in the eurovis song contest 1998 :  709.2263013984278 [10.13, 8.47, 0.69, 0.67, 8.05]\n",
      "sweden in the eurovis song contest 1999 :  703.5994000041256 [11.62, 2.18, 2.18, 2.1, 2.1]\n",
      "sweden in the eurovis song contest 1993 :  702.566726514632 [11.62, 2.18, 2.18, 2.1, 2.1]\n",
      "sweden in the eurovis song contest 1985 :  694.739637339445 [10.68, 1.24, 1.24, 1.2, 8.58]\n",
      "eurovis song contest 2013 :  694.4359690288243 [11.62, 2.18, 2.18, 2.1, 2.1]\n",
      "sweden in the eurovis song contest 2013 :  686.1697916549981 [11.62, 2.18, 2.18, 2.1, 2.1]\n",
      "sweden in the eurovis song contest 1968 :  685.4260383291651 [10.68, 9.02, 1.24, 1.2, 1.2]\n"
     ]
    },
    {
     "name": "stderr",
     "output_type": "stream",
     "text": [
      "/Library/Frameworks/Python.framework/Versions/3.9/lib/python3.9/site-packages/sklearn/manifold/_t_sne.py:790: FutureWarning: The default learning rate in TSNE will change from 200.0 to 'auto' in 1.2.\n",
      "  warnings.warn(\n"
     ]
    },
    {
     "data": {
      "image/png": "[encoded data removed]",
      "text/plain": [
       "<Figure size 432x288 with 1 Axes>"
      ]
     },
     "metadata": {
      "needs_background": "light"
     },
     "output_type": "display_data"
    }
   ],
   "source": [
    "ranking, weights = fetch_ranking_topk(query, index_name, model_name, k=20)\n",
    "weights = np.round(weights,2)\n",
    "to_display = show_results(ranking, weights)\n",
    "display_field_weights(weights)"
   ]
  },
  {
   "cell_type": "code",
   "execution_count": 13,
   "id": "682eae9c",
   "metadata": {},
   "outputs": [],
   "source": [
    "import ipywidgets as widgets"
   ]
  },
  {
   "cell_type": "code",
   "execution_count": 14,
   "id": "28f6f7f9",
   "metadata": {},
   "outputs": [],
   "source": [
    "from ipywidgets import IntSlider, HTML, Button, Layout, ButtonStyle,GridBox, Box\n"
   ]
  },
  {
   "cell_type": "code",
   "execution_count": 22,
   "id": "73cbe500",
   "metadata": {},
   "outputs": [],
   "source": [
    "header = HTML(\n",
    "    value=\"Hello <b>World</b>\",\n",
    "    placeholder='Some HTML',\n",
    "    description='Some HTML',\n",
    ")"
   ]
  },
  {
   "cell_type": "code",
   "execution_count": 16,
   "id": "37457402",
   "metadata": {},
   "outputs": [],
   "source": [
    "ranks = [\n",
    "    Button(description=x[0],\n",
    "       layout=Layout(width='auto', grid_area='main'),\n",
    "       style=ButtonStyle(button_color='moccasin'))\n",
    "    for x in to_display]"
   ]
  },
  {
   "cell_type": "code",
   "execution_count": 17,
   "id": "3cb329b5",
   "metadata": {},
   "outputs": [
    {
     "data": {
      "application/vnd.jupyter.widget-view+json": {
       "model_id": "317cf1ca72424082bbb732067c15f338",
       "version_major": 2,
       "version_minor": 0
      },
      "text/plain": [
       "Button(description='sweden in the eurovis song contest 1975', layout=Layout(grid_area='main', width='auto'), s…"
      ]
     },
     "execution_count": 17,
     "metadata": {},
     "output_type": "execute_result"
    }
   ],
   "source": [
    "ranks[0]"
   ]
  },
  {
   "cell_type": "code",
   "execution_count": 18,
   "id": "32d12db1",
   "metadata": {},
   "outputs": [
    {
     "data": {
      "application/vnd.jupyter.widget-view+json": {
       "model_id": "7ef09217d1444b37a3b5c75e413fc7af",
       "version_major": 2,
       "version_minor": 0
      },
      "text/plain": [
       "Box(children=(Button(description='sweden in the eurovis song contest 1975', layout=Layout(grid_area='main', wi…"
      ]
     },
     "execution_count": 18,
     "metadata": {},
     "output_type": "execute_result"
    }
   ],
   "source": [
    "Box(children=[ranks[0], ranks[1]],\n",
    "        layout=Layout(\n",
    "            width='50%',\n",
    "            grid_template_rows='auto auto',\n",
    "            grid_template_columns='25% 25% 25% 25%',\n",
    "            grid_template_areas='''\n",
    "            \"header header header header\"\n",
    "            \"main main main main\"\n",
    "            ''')\n",
    "       )"
   ]
  },
  {
   "cell_type": "code",
   "execution_count": null,
   "id": "5cd2f819",
   "metadata": {},
   "outputs": [],
   "source": []
  },
  {
   "cell_type": "code",
   "execution_count": null,
   "id": "c18ba172",
   "metadata": {},
   "outputs": [],
   "source": []
  },
  {
   "cell_type": "code",
   "execution_count": null,
   "id": "2cfe99c3",
   "metadata": {},
   "outputs": [],
   "source": []
  },
  {
   "cell_type": "code",
   "execution_count": null,
   "id": "7d65aaf7",
   "metadata": {},
   "outputs": [],
   "source": []
  },
  {
   "cell_type": "code",
   "execution_count": null,
   "id": "852a1831",
   "metadata": {},
   "outputs": [],
   "source": []
  },
  {
   "cell_type": "code",
   "execution_count": null,
   "id": "10983f1b",
   "metadata": {},
   "outputs": [],
   "source": [
    "import plotly.express as px\n",
    "from jupyter_dash import JupyterDash\n",
    "# import dash_core_components as dcc\n",
    "from dash import dcc\n",
    "# import dash_html_components as html\n",
    "from dash import html\n",
    "from dash.dependencies import Input, Output# Load Data\n",
    "df = px.data.tips()# Build App\n",
    "app = JupyterDash(__name__)\n",
    "app.layout = html.Div([\n",
    "    html.H1(\"JupyterDash\"),\n",
    "    dcc.Graph(id='graph'),\n",
    "    html.Label([\n",
    "        \"colorscale\",\n",
    "        dcc.Dropdown(\n",
    "            id='colorscale-dropdown', clearable=False,\n",
    "            value='plasma', options=[\n",
    "                {'label': c, 'value': c}\n",
    "                for c in px.colors.named_colorscales()\n",
    "            ])\n",
    "    ]),\n",
    "])"
   ]
  },
  {
   "cell_type": "code",
   "execution_count": null,
   "id": "42f7f327",
   "metadata": {},
   "outputs": [],
   "source": [
    "# Define callback to update graph\n",
    "@app.callback(\n",
    "    Output('graph', 'figure'),\n",
    "    [Input(\"colorscale-dropdown\", \"value\")]\n",
    ")\n",
    "def update_figure(colorscale):\n",
    "    check_val = 'asdasdasd'\n",
    "    return px.scatter(\n",
    "        df, x=\"total_bill\", y=\"tip\", color=\"size\",\n",
    "        color_continuous_scale=colorscale,\n",
    "        render_mode=\"webgl\", title=\"Tips\"\n",
    "    )"
   ]
  },
  {
   "cell_type": "code",
   "execution_count": null,
   "id": "e51562ac",
   "metadata": {},
   "outputs": [],
   "source": [
    "# Run app and display result inline in the notebook\n",
    "app.run_server(mode='inline')"
   ]
  },
  {
   "cell_type": "code",
   "execution_count": null,
   "id": "78006692",
   "metadata": {},
   "outputs": [],
   "source": [
    "check_val"
   ]
  },
  {
   "cell_type": "code",
   "execution_count": null,
   "id": "8473f81f",
   "metadata": {},
   "outputs": [],
   "source": []
  }
 ],
 "metadata": {
  "kernelspec": {
   "display_name": "Python 3 (ipykernel)",
   "language": "python",
   "name": "python3"
  },
  "language_info": {
   "codemirror_mode": {
    "name": "ipython",
    "version": 3
   },
   "file_extension": ".py",
   "mimetype": "text/x-python",
   "name": "python",
   "nbconvert_exporter": "python",
   "pygments_lexer": "ipython3",
   "version": "3.9.5"
  }
 },
 "nbformat": 4,
 "nbformat_minor": 5
}
